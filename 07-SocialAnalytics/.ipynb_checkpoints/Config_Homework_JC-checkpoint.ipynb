{
 "cells": [
  {
   "cell_type": "code",
   "execution_count": null,
   "metadata": {},
   "outputs": [],
   "source": [
    "# Twitter API Keys\n",
    "consumer_key = \"Qzz8MhRawGo12CLcq2vxxYMry\"\n",
    "consumer_secret = \"pHVZRDxfou1UTTU9jIbxQufV9Hfn66aSnBRJDYHWLCTWIxQMJE\"\n",
    "access_token = \"2795003269-QcgIJCmMNHqo9ur9wzbXn7olVXOBVDU9tTAo8wI\"\n",
    "access_token_secret = \"JTGZ8xppWoJxCYrkngAnpfUAGN7HBcir8DMOh3lwdnGVn\""
   ]
  }
 ],
 "metadata": {
  "kernelspec": {
   "display_name": "Python 3",
   "language": "python",
   "name": "python3"
  },
  "language_info": {
   "codemirror_mode": {
    "name": "ipython",
    "version": 3
   },
   "file_extension": ".py",
   "mimetype": "text/x-python",
   "name": "python",
   "nbconvert_exporter": "python",
   "pygments_lexer": "ipython3",
   "version": "3.6.5"
  }
 },
 "nbformat": 4,
 "nbformat_minor": 2
}
